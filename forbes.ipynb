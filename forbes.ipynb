{
 "cells": [
  {
   "cell_type": "code",
   "execution_count": 230,
   "metadata": {},
   "outputs": [],
   "source": [
    "#importar librerias para limpieza de data\n",
    "import os \n",
    "import numpy as np \n",
    "import pandas as pd \n",
    "import matplotlib.pyplot as plt\n",
    "from sklearn.cluster import KMeans"
   ]
  },
  {
   "cell_type": "code",
   "execution_count": 214,
   "metadata": {},
   "outputs": [],
   "source": [
    "#Generar la ruta a el archivo CSV\n",
    "FILE_NAME = \"Forbes 2000 2022.csv\"\n",
    "PATH_TO_DATA_SET = \"Data_set\"\n",
    "\n",
    "cdw = os.getcwd()\n",
    "file_path = os.path.join(cdw, PATH_TO_DATA_SET, FILE_NAME)\n"
   ]
  },
  {
   "cell_type": "code",
   "execution_count": 215,
   "metadata": {},
   "outputs": [],
   "source": [
    "#importar el archivo CSV, limpiar la col vacia y renombrar las columnas\n",
    "forbes22 = pd.read_csv(file_path,encoding= 'UTF_8',sep=';')\n",
    "forbes22 = forbes22.drop(\"Unnamed: 7\",axis=1)\n",
    "forbes22.columns = ['Rank', 'Company Name', 'Country', 'Sales', 'Profits', 'Assets', 'Market_Value']"
   ]
  },
  {
   "cell_type": "code",
   "execution_count": 216,
   "metadata": {},
   "outputs": [
    {
     "name": "stdout",
     "output_type": "stream",
     "text": [
      "<class 'pandas.core.frame.DataFrame'>\n",
      "RangeIndex: 2000 entries, 0 to 1999\n",
      "Data columns (total 7 columns):\n",
      " #   Column        Non-Null Count  Dtype \n",
      "---  ------        --------------  ----- \n",
      " 0   Rank          2000 non-null   int64 \n",
      " 1   Company Name  2000 non-null   object\n",
      " 2   Country       2000 non-null   object\n",
      " 3   Sales         2000 non-null   object\n",
      " 4   Profits       2000 non-null   object\n",
      " 5   Assets        2000 non-null   object\n",
      " 6   Market_Value  2000 non-null   object\n",
      "dtypes: int64(1), object(6)\n",
      "memory usage: 109.5+ KB\n"
     ]
    },
    {
     "data": {
      "text/plain": [
       "Rank            False\n",
       "Company Name    False\n",
       "Country         False\n",
       "Sales           False\n",
       "Profits         False\n",
       "Assets          False\n",
       "Market_Value    False\n",
       "dtype: bool"
      ]
     },
     "execution_count": 216,
     "metadata": {},
     "output_type": "execute_result"
    }
   ],
   "source": [
    "#comprobación de los tipos de datos, veridicación de NAN y  '-'\n",
    "forbes22.info()\n",
    "forbes22.isna().any()\n",
    "forbes22.isin(['-']).any()"
   ]
  },
  {
   "cell_type": "code",
   "execution_count": 217,
   "metadata": {},
   "outputs": [
    {
     "name": "stdout",
     "output_type": "stream",
     "text": [
      "<class 'pandas.core.frame.DataFrame'>\n",
      "RangeIndex: 2000 entries, 0 to 1999\n",
      "Data columns (total 7 columns):\n",
      " #   Column        Non-Null Count  Dtype  \n",
      "---  ------        --------------  -----  \n",
      " 0   Rank          2000 non-null   int64  \n",
      " 1   Company Name  2000 non-null   object \n",
      " 2   Country       2000 non-null   object \n",
      " 3   Sales         2000 non-null   float64\n",
      " 4   Profits       2000 non-null   float64\n",
      " 5   Assets        2000 non-null   float64\n",
      " 6   Market_Value  2000 non-null   float64\n",
      "dtypes: float64(4), int64(1), object(2)\n",
      "memory usage: 109.5+ KB\n"
     ]
    }
   ],
   "source": [
    "#limpieza de las columnas numericas y transformacion a tipo float\n",
    "\n",
    "numeric_cols =['Sales','Profits','Assets', 'Market_Value']\n",
    "forbes22[numeric_cols]  = forbes22[numeric_cols].replace('[^0-9]', '', regex=True).astype(float)\n",
    "#verificacion de cambio\n",
    "forbes22.info()"
   ]
  },
  {
   "cell_type": "code",
   "execution_count": 218,
   "metadata": {},
   "outputs": [
    {
     "data": {
      "text/plain": [
       "(2000, 23876.035, 40943.9022916259, 1676403134.8662083)"
      ]
     },
     "execution_count": 218,
     "metadata": {},
     "output_type": "execute_result"
    }
   ],
   "source": [
    "#calculos numericos con loa data limpia\n",
    "forbes22['Sales'].count(), forbes22['Sales'].mean(), forbes22['Sales'].std(), forbes22['Sales'].var() \n"
   ]
  },
  {
   "cell_type": "code",
   "execution_count": 219,
   "metadata": {},
   "outputs": [
    {
     "data": {
      "text/plain": [
       "Rank            0\n",
       "Company Name    0\n",
       "Country         0\n",
       "Sales           0\n",
       "Profits         0\n",
       "Assets          0\n",
       "Market_Value    0\n",
       "dtype: int64"
      ]
     },
     "execution_count": 219,
     "metadata": {},
     "output_type": "execute_result"
    }
   ],
   "source": [
    "#comprobra de la cantidad de valores vacios\n",
    "forbes22.isna().sum()"
   ]
  },
  {
   "cell_type": "code",
   "execution_count": 220,
   "metadata": {},
   "outputs": [
    {
     "name": "stdout",
     "output_type": "stream",
     "text": [
      "[ 653. 1120. 2390.]\n"
     ]
    },
    {
     "data": {
      "text/plain": [
       "0.25     653.0\n",
       "0.50    1120.0\n",
       "0.75    2390.0\n",
       "Name: Profits, dtype: float64"
      ]
     },
     "execution_count": 220,
     "metadata": {},
     "output_type": "execute_result"
    }
   ],
   "source": [
    "print(np.percentile(forbes22['Profits'],[25,50,75]))\n",
    "\n",
    "forbes22['Profits'].quantile([0.25,0.5,0.75])"
   ]
  },
  {
   "cell_type": "code",
   "execution_count": 221,
   "metadata": {},
   "outputs": [
    {
     "data": {
      "text/plain": [
       "23635.099999999995"
      ]
     },
     "execution_count": 221,
     "metadata": {},
     "output_type": "execute_result"
    }
   ],
   "source": [
    "# Valorar el 1% de las empresas con mas ganancias en el mundo /percentil 99\n",
    "\n",
    "p99p = np.percentile(forbes22['Profits'],99)\n",
    "p99p"
   ]
  },
  {
   "cell_type": "code",
   "execution_count": 222,
   "metadata": {},
   "outputs": [],
   "source": [
    "#definimos algunos nombres de paises de sur america, para filtrarlos del data set\n",
    "suda = ['Argentina','Bolivia','Brazil','Chile','Colombia','Ecuador','Paraguay','Peru','Uruguay','Venezuela']\n",
    "f_suda = forbes22[forbes22['Country'].isin(suda)]"
   ]
  },
  {
   "cell_type": "code",
   "execution_count": 223,
   "metadata": {},
   "outputs": [
    {
     "data": {
      "image/png": "[encoded data removed]",
      "text/plain": [
       "<Figure size 640x480 with 1 Axes>"
      ]
     },
     "metadata": {},
     "output_type": "display_data"
    }
   ],
   "source": [
    "# Bar plot\n",
    "table_suda=f_suda['Country'].value_counts()\n",
    "table_suda\n",
    "\n",
    "plt.bar(table_suda.index,table_suda.values, color = 'green', alpha = 0.8, edgecolor = 'gray') #Crea el gráfico de barras\n",
    "plt.title('Frecuencia de empresas sudamericanas')\n",
    "plt.xlabel('Paises sudamericanos')\n",
    "plt.ylabel('Frecuencia absoluta')\n",
    "plt.grid(color = 'gray',alpha = 0.3, linestyle = 'solid')\n",
    "\n",
    "plt.show() #Imprime el gráfico"
   ]
  },
  {
   "cell_type": "code",
   "execution_count": 227,
   "metadata": {},
   "outputs": [
    {
     "data": {
      "image/png": "[encoded data removed]",
      "text/plain": [
       "<Figure size 640x480 with 1 Axes>"
      ]
     },
     "metadata": {},
     "output_type": "display_data"
    }
   ],
   "source": [
    "#modelo K-means Sales vs Profits\n",
    "plt.title('Ejemplo modelo k-means')\n",
    "plt.xlabel('Sales')\n",
    "plt.ylabel('Profits')\n",
    "plt.scatter(forbes22['Sales'], forbes22['Profits'] , alpha=0.5)\n",
    "plt.show()"
   ]
  },
  {
   "cell_type": "code",
   "execution_count": 241,
   "metadata": {},
   "outputs": [],
   "source": [
    "#creacion del modelo kmeans con dos clusters\n",
    "kmeans_model = KMeans(n_clusters= 2, init='k-means++',random_state=0)"
   ]
  },
  {
   "cell_type": "code",
   "execution_count": 242,
   "metadata": {},
   "outputs": [
    {
     "name": "stderr",
     "output_type": "stream",
     "text": [
      "c:\\Users\\sllow\\Desktop\\IA\\venv\\lib\\site-packages\\sklearn\\cluster\\_kmeans.py:1416: FutureWarning: The default value of `n_init` will change from 10 to 'auto' in 1.4. Set the value of `n_init` explicitly to suppress the warning\n",
      "  super()._check_params_vs_input(X, default_n_init=10)\n"
     ]
    }
   ],
   "source": [
    "#se asigna el resultado de aplicar el metrodo fit_predict sobre las ventas y ganancias\n",
    "y = kmeans_model.fit_predict(forbes22[['Sales', 'Profits']])"
   ]
  },
  {
   "cell_type": "code",
   "execution_count": 243,
   "metadata": {},
   "outputs": [
    {
     "data": {
      "text/plain": [
       "0    1922\n",
       "1      78\n",
       "Name: count, dtype: int64"
      ]
     },
     "execution_count": 243,
     "metadata": {},
     "output_type": "execute_result"
    }
   ],
   "source": [
    "#muestra cuantas empresas se encuentran en cada cluster\n",
    "pd.Series(y).value_counts()"
   ]
  },
  {
   "cell_type": "code",
   "execution_count": 244,
   "metadata": {},
   "outputs": [
    {
     "data": {
      "text/plain": [
       "array([[ 17434.25078044,   2062.1264308 ],\n",
       "       [182608.20512821,  17859.96153846]])"
      ]
     },
     "execution_count": 244,
     "metadata": {},
     "output_type": "execute_result"
    }
   ],
   "source": [
    "#se obtienen los centroides de cada uno de los clusters representado valores medio de ventas y ganancias\n",
    "kmeans_model.cluster_centers_"
   ]
  },
  {
   "cell_type": "code",
   "execution_count": 245,
   "metadata": {},
   "outputs": [
    {
     "data": {
      "text/html": [
       "<div>\n",
       "<style scoped>\n",
       "    .dataframe tbody tr th:only-of-type {\n",
       "        vertical-align: middle;\n",
       "    }\n",
       "\n",
       "    .dataframe tbody tr th {\n",
       "        vertical-align: top;\n",
       "    }\n",
       "\n",
       "    .dataframe thead th {\n",
       "        text-align: right;\n",
       "    }\n",
       "</style>\n",
       "<table border=\"1\" class=\"dataframe\">\n",
       "  <thead>\n",
       "    <tr style=\"text-align: right;\">\n",
       "      <th></th>\n",
       "      <th>Rank</th>\n",
       "      <th>Company Name</th>\n",
       "      <th>Country</th>\n",
       "      <th>Sales</th>\n",
       "      <th>Profits</th>\n",
       "      <th>Assets</th>\n",
       "      <th>Market_Value</th>\n",
       "      <th>cluster</th>\n",
       "    </tr>\n",
       "  </thead>\n",
       "  <tbody>\n",
       "    <tr>\n",
       "      <th>0</th>\n",
       "      <td>1</td>\n",
       "      <td>Berkshire Hathaway</td>\n",
       "      <td>United States</td>\n",
       "      <td>276090.0</td>\n",
       "      <td>89800.0</td>\n",
       "      <td>958780.0</td>\n",
       "      <td>741480.0</td>\n",
       "      <td>1</td>\n",
       "    </tr>\n",
       "    <tr>\n",
       "      <th>1</th>\n",
       "      <td>2</td>\n",
       "      <td>ICBC</td>\n",
       "      <td>China</td>\n",
       "      <td>208130.0</td>\n",
       "      <td>54030.0</td>\n",
       "      <td>5518510.0</td>\n",
       "      <td>214430.0</td>\n",
       "      <td>1</td>\n",
       "    </tr>\n",
       "    <tr>\n",
       "      <th>2</th>\n",
       "      <td>3</td>\n",
       "      <td>Saudi Arabian Oil Company (Saudi Aramco)</td>\n",
       "      <td>Saudi Arabia</td>\n",
       "      <td>400380.0</td>\n",
       "      <td>105360.0</td>\n",
       "      <td>576040.0</td>\n",
       "      <td>2292080.0</td>\n",
       "      <td>1</td>\n",
       "    </tr>\n",
       "    <tr>\n",
       "      <th>3</th>\n",
       "      <td>4</td>\n",
       "      <td>JPMorgan Chase</td>\n",
       "      <td>United States</td>\n",
       "      <td>124540.0</td>\n",
       "      <td>42120.0</td>\n",
       "      <td>3954690.0</td>\n",
       "      <td>374450.0</td>\n",
       "      <td>1</td>\n",
       "    </tr>\n",
       "    <tr>\n",
       "      <th>4</th>\n",
       "      <td>5</td>\n",
       "      <td>China Construction Bank</td>\n",
       "      <td>China</td>\n",
       "      <td>202070.0</td>\n",
       "      <td>46890.0</td>\n",
       "      <td>4746950.0</td>\n",
       "      <td>181320.0</td>\n",
       "      <td>1</td>\n",
       "    </tr>\n",
       "    <tr>\n",
       "      <th>...</th>\n",
       "      <td>...</td>\n",
       "      <td>...</td>\n",
       "      <td>...</td>\n",
       "      <td>...</td>\n",
       "      <td>...</td>\n",
       "      <td>...</td>\n",
       "      <td>...</td>\n",
       "      <td>...</td>\n",
       "    </tr>\n",
       "    <tr>\n",
       "      <th>1995</th>\n",
       "      <td>1996</td>\n",
       "      <td>Shenzhen Feima International Supply Chain</td>\n",
       "      <td>China</td>\n",
       "      <td>37.0</td>\n",
       "      <td>1410.0</td>\n",
       "      <td>166.0</td>\n",
       "      <td>1140.0</td>\n",
       "      <td>0</td>\n",
       "    </tr>\n",
       "    <tr>\n",
       "      <th>1996</th>\n",
       "      <td>1997</td>\n",
       "      <td>NMDC</td>\n",
       "      <td>India</td>\n",
       "      <td>3520.0</td>\n",
       "      <td>1410.0</td>\n",
       "      <td>5710.0</td>\n",
       "      <td>6400.0</td>\n",
       "      <td>0</td>\n",
       "    </tr>\n",
       "    <tr>\n",
       "      <th>1997</th>\n",
       "      <td>1998</td>\n",
       "      <td>Sichuan Changhong Electric</td>\n",
       "      <td>China</td>\n",
       "      <td>15720.0</td>\n",
       "      <td>53.0</td>\n",
       "      <td>12110.0</td>\n",
       "      <td>1960.0</td>\n",
       "      <td>0</td>\n",
       "    </tr>\n",
       "    <tr>\n",
       "      <th>1998</th>\n",
       "      <td>1999</td>\n",
       "      <td>Satellite Chemical</td>\n",
       "      <td>China</td>\n",
       "      <td>4410.0</td>\n",
       "      <td>931.0</td>\n",
       "      <td>7640.0</td>\n",
       "      <td>9520.0</td>\n",
       "      <td>0</td>\n",
       "    </tr>\n",
       "    <tr>\n",
       "      <th>1999</th>\n",
       "      <td>2000</td>\n",
       "      <td>Credit Bank of Moscow</td>\n",
       "      <td>Russia</td>\n",
       "      <td>2530.0</td>\n",
       "      <td>370.0</td>\n",
       "      <td>45150.0</td>\n",
       "      <td>2060.0</td>\n",
       "      <td>0</td>\n",
       "    </tr>\n",
       "  </tbody>\n",
       "</table>\n",
       "<p>2000 rows × 8 columns</p>\n",
       "</div>"
      ],
      "text/plain": [
       "      Rank                               Company Name        Country  \\\n",
       "0        1                         Berkshire Hathaway  United States   \n",
       "1        2                                       ICBC          China   \n",
       "2        3   Saudi Arabian Oil Company (Saudi Aramco)   Saudi Arabia   \n",
       "3        4                             JPMorgan Chase  United States   \n",
       "4        5                    China Construction Bank          China   \n",
       "...    ...                                        ...            ...   \n",
       "1995  1996  Shenzhen Feima International Supply Chain          China   \n",
       "1996  1997                                       NMDC          India   \n",
       "1997  1998                 Sichuan Changhong Electric          China   \n",
       "1998  1999                         Satellite Chemical          China   \n",
       "1999  2000                      Credit Bank of Moscow         Russia   \n",
       "\n",
       "         Sales   Profits     Assets  Market_Value  cluster  \n",
       "0     276090.0   89800.0   958780.0      741480.0        1  \n",
       "1     208130.0   54030.0  5518510.0      214430.0        1  \n",
       "2     400380.0  105360.0   576040.0     2292080.0        1  \n",
       "3     124540.0   42120.0  3954690.0      374450.0        1  \n",
       "4     202070.0   46890.0  4746950.0      181320.0        1  \n",
       "...        ...       ...        ...           ...      ...  \n",
       "1995      37.0    1410.0      166.0        1140.0        0  \n",
       "1996    3520.0    1410.0     5710.0        6400.0        0  \n",
       "1997   15720.0      53.0    12110.0        1960.0        0  \n",
       "1998    4410.0     931.0     7640.0        9520.0        0  \n",
       "1999    2530.0     370.0    45150.0        2060.0        0  \n",
       "\n",
       "[2000 rows x 8 columns]"
      ]
     },
     "execution_count": 245,
     "metadata": {},
     "output_type": "execute_result"
    }
   ],
   "source": [
    "#se agerega una nueva columna de a el DF con el contenido de cluster\n",
    "df = pd.DataFrame(forbes22)\n",
    "df['cluster'] = y\n",
    "df"
   ]
  }
 ],
 "metadata": {
  "kernelspec": {
   "display_name": "Python 3",
   "language": "python",
   "name": "python3"
  },
  "language_info": {
   "codemirror_mode": {
    "name": "ipython",
    "version": 3
   },
   "file_extension": ".py",
   "mimetype": "text/x-python",
   "name": "python",
   "nbconvert_exporter": "python",
   "pygments_lexer": "ipython3",
   "version": "3.10.1"
  },
  "orig_nbformat": 4
 },
 "nbformat": 4,
 "nbformat_minor": 2
}
